{
 "cells": [
  {
   "cell_type": "markdown",
   "metadata": {},
   "source": [
    "# Exploring and cleaning the tweet data"
   ]
  },
  {
   "cell_type": "markdown",
   "metadata": {},
   "source": [
    "### Imports"
   ]
  },
  {
   "cell_type": "code",
   "execution_count": 404,
   "metadata": {},
   "outputs": [],
   "source": [
    "#imports\n",
    "import numpy as np\n",
    "import pandas as pd\n",
    "import seaborn as sns\n",
    "import matplotlib.pyplot as plt\n",
    "from scipy import stats\n",
    "from nltk.tokenize import TweetTokenizer\n",
    "from nltk.stem import WordNetLemmatizer\n",
    "from nltk.corpus import stopwords\n",
    "from nltk.sentiment.vader import SentimentIntensityAnalyzer\n",
    "from sklearn.feature_extraction.text import CountVectorizer, TfidfVectorizer\n",
    "import emoji\n",
    "import pickle\n"
   ]
  },
  {
   "cell_type": "markdown",
   "metadata": {},
   "source": [
    "### Reading in Data"
   ]
  },
  {
   "cell_type": "code",
   "execution_count": 405,
   "metadata": {},
   "outputs": [],
   "source": [
    "data = pd.read_csv('../Protected/Data/corpus_with_text.csv')"
   ]
  },
  {
   "cell_type": "code",
   "execution_count": 406,
   "metadata": {},
   "outputs": [
    {
     "name": "stdout",
     "output_type": "stream",
     "text": [
      "<class 'pandas.core.frame.DataFrame'>\n",
      "RangeIndex: 8379 entries, 0 to 8378\n",
      "Data columns (total 2 columns):\n",
      " #   Column  Non-Null Count  Dtype \n",
      "---  ------  --------------  ----- \n",
      " 0   label   8379 non-null   int64 \n",
      " 1   text    8379 non-null   object\n",
      "dtypes: int64(1), object(1)\n",
      "memory usage: 131.0+ KB\n"
     ]
    }
   ],
   "source": [
    "data.info()\n"
   ]
  },
  {
   "cell_type": "markdown",
   "metadata": {},
   "source": [
    "### Tokenizing and Lemmatizing"
   ]
  },
  {
   "cell_type": "code",
   "execution_count": 407,
   "metadata": {},
   "outputs": [],
   "source": [
    "def tok_and_lem(dataframe, new_column, input_column,handles = True, tok = True, lem = True):\n",
    "    tokenizer = TweetTokenizer(strip_handles = handles)\n",
    "    lemmatizer = WordNetLemmatizer()\n",
    "    #tokenizing\n",
    "    dataframe[new_column] = [tokenizer.tokenize(row) for row in dataframe[input_column]]\n",
    "    #lemmatizing and joining the text back together \n",
    "    for row in dataframe.index:\n",
    "        dataframe[new_column].iloc[row] = ' '.join([lemmatizer.lemmatize(word) for word in dataframe[new_column][row]])\n",
    "    #example of what the data looks like\n",
    "    return dataframe[new_column]"
   ]
  },
  {
   "cell_type": "code",
   "execution_count": 408,
   "metadata": {},
   "outputs": [
    {
     "name": "stderr",
     "output_type": "stream",
     "text": [
      "/opt/anaconda3/lib/python3.8/site-packages/pandas/core/indexing.py:670: SettingWithCopyWarning: \n",
      "A value is trying to be set on a copy of a slice from a DataFrame\n",
      "\n",
      "See the caveats in the documentation: https://pandas.pydata.org/pandas-docs/stable/user_guide/indexing.html#returning-a-view-versus-a-copy\n",
      "  iloc._setitem_with_indexer(indexer, value)\n"
     ]
    },
    {
     "data": {
      "text/plain": [
       "0       plz excuse me while I cry . I DONT even know w...\n",
       "1       you had me til the goat cheese ... What's next...\n",
       "2       Either way , I should go get a flu shot . And ...\n",
       "3       and form them into something we like yep make ...\n",
       "4                                         thanks mate ...\n",
       "                              ...                        \n",
       "8374    You don't . I have purchased a lot on Amazon (...\n",
       "8375    #Emotions you say 🤔 never knew that I think I ...\n",
       "8376    You are so right ... \" Yes ! #Silence is not #...\n",
       "8377    Another lazy delusional voter who take the wor...\n",
       "8378    I hope you know no news outlet from Nigeria ha...\n",
       "Name: text_processed, Length: 8379, dtype: object"
      ]
     },
     "execution_count": 408,
     "metadata": {},
     "output_type": "execute_result"
    }
   ],
   "source": [
    "tok_and_lem(data,'text_processed','text')"
   ]
  },
  {
   "cell_type": "markdown",
   "metadata": {},
   "source": [
    "## Exploring Emoji use"
   ]
  },
  {
   "cell_type": "code",
   "execution_count": 409,
   "metadata": {},
   "outputs": [
    {
     "name": "stdout",
     "output_type": "stream",
     "text": [
      "Number of unique emojis used:336\n",
      "Number of emojis used overall: 2529\n",
      "['🤪', '💞', '🍽', '🇿', '📺', '🤦', '🍫', '😉', '😳', '✊']\n"
     ]
    }
   ],
   "source": [
    "#First, using the emoji library I'll collect a list of all unique emojis in the corpus\n",
    "emoji_list=[]\n",
    "for row in data['text']:\n",
    "    for c in row:\n",
    "        if c in emoji.UNICODE_EMOJI:\n",
    "            emoji_list.append(c)\n",
    "emoji_set =  list(set(emoji_list))\n",
    "emoji_dict = {str(c):emoji_list.count(c) for c in emoji_set}\n",
    "print(f'Number of unique emojis used:{len(emoji_set)}')\n",
    "print(f'Number of emojis used overall: {len(emoji_list)}')\n",
    "\n",
    "print(emoji_set[0:10])"
   ]
  },
  {
   "cell_type": "code",
   "execution_count": 410,
   "metadata": {},
   "outputs": [
    {
     "data": {
      "text/html": [
       "<div>\n",
       "<style scoped>\n",
       "    .dataframe tbody tr th:only-of-type {\n",
       "        vertical-align: middle;\n",
       "    }\n",
       "\n",
       "    .dataframe tbody tr th {\n",
       "        vertical-align: top;\n",
       "    }\n",
       "\n",
       "    .dataframe thead th {\n",
       "        text-align: right;\n",
       "    }\n",
       "</style>\n",
       "<table border=\"1\" class=\"dataframe\">\n",
       "  <thead>\n",
       "    <tr style=\"text-align: right;\">\n",
       "      <th></th>\n",
       "      <th>Emoji Count</th>\n",
       "    </tr>\n",
       "  </thead>\n",
       "  <tbody>\n",
       "    <tr>\n",
       "      <th>😂</th>\n",
       "      <td>233</td>\n",
       "    </tr>\n",
       "    <tr>\n",
       "      <th>🤣</th>\n",
       "      <td>139</td>\n",
       "    </tr>\n",
       "    <tr>\n",
       "      <th>❤</th>\n",
       "      <td>120</td>\n",
       "    </tr>\n",
       "    <tr>\n",
       "      <th>🙏</th>\n",
       "      <td>75</td>\n",
       "    </tr>\n",
       "    <tr>\n",
       "      <th>👍</th>\n",
       "      <td>59</td>\n",
       "    </tr>\n",
       "    <tr>\n",
       "      <th>😉</th>\n",
       "      <td>52</td>\n",
       "    </tr>\n",
       "    <tr>\n",
       "      <th>😊</th>\n",
       "      <td>45</td>\n",
       "    </tr>\n",
       "    <tr>\n",
       "      <th>🙄</th>\n",
       "      <td>45</td>\n",
       "    </tr>\n",
       "    <tr>\n",
       "      <th>😘</th>\n",
       "      <td>42</td>\n",
       "    </tr>\n",
       "    <tr>\n",
       "      <th>🤔</th>\n",
       "      <td>37</td>\n",
       "    </tr>\n",
       "    <tr>\n",
       "      <th>💞</th>\n",
       "      <td>35</td>\n",
       "    </tr>\n",
       "    <tr>\n",
       "      <th>💕</th>\n",
       "      <td>32</td>\n",
       "    </tr>\n",
       "    <tr>\n",
       "      <th>🇺</th>\n",
       "      <td>32</td>\n",
       "    </tr>\n",
       "    <tr>\n",
       "      <th>♂</th>\n",
       "      <td>30</td>\n",
       "    </tr>\n",
       "    <tr>\n",
       "      <th>😁</th>\n",
       "      <td>29</td>\n",
       "    </tr>\n",
       "  </tbody>\n",
       "</table>\n",
       "</div>"
      ],
      "text/plain": [
       "   Emoji Count\n",
       "😂          233\n",
       "🤣          139\n",
       "❤          120\n",
       "🙏           75\n",
       "👍           59\n",
       "😉           52\n",
       "😊           45\n",
       "🙄           45\n",
       "😘           42\n",
       "🤔           37\n",
       "💞           35\n",
       "💕           32\n",
       "🇺           32\n",
       "♂           30\n",
       "😁           29"
      ]
     },
     "execution_count": 410,
     "metadata": {},
     "output_type": "execute_result"
    }
   ],
   "source": [
    "emoji_dataframe = pd.DataFrame(emoji_dict.values(), index = emoji_dict.keys(), columns = ['Emoji Count'])\n",
    "emoji_dataframe.sort_values(by = 'Emoji Count', ascending = False)[0:15]"
   ]
  },
  {
   "cell_type": "code",
   "execution_count": 411,
   "metadata": {},
   "outputs": [
    {
     "data": {
      "text/plain": [
       "<BarContainer object of 15 artists>"
      ]
     },
     "execution_count": 411,
     "metadata": {},
     "output_type": "execute_result"
    },
    {
     "name": "stderr",
     "output_type": "stream",
     "text": [
      "/opt/anaconda3/lib/python3.8/site-packages/matplotlib/backends/backend_agg.py:238: RuntimeWarning: Glyph 129315 missing from current font.\n",
      "  font.set_text(s, 0.0, flags=flags)\n",
      "/opt/anaconda3/lib/python3.8/site-packages/matplotlib/backends/backend_agg.py:238: RuntimeWarning: Glyph 128591 missing from current font.\n",
      "  font.set_text(s, 0.0, flags=flags)\n",
      "/opt/anaconda3/lib/python3.8/site-packages/matplotlib/backends/backend_agg.py:238: RuntimeWarning: Glyph 128077 missing from current font.\n",
      "  font.set_text(s, 0.0, flags=flags)\n",
      "/opt/anaconda3/lib/python3.8/site-packages/matplotlib/backends/backend_agg.py:238: RuntimeWarning: Glyph 128580 missing from current font.\n",
      "  font.set_text(s, 0.0, flags=flags)\n",
      "/opt/anaconda3/lib/python3.8/site-packages/matplotlib/backends/backend_agg.py:238: RuntimeWarning: Glyph 129300 missing from current font.\n",
      "  font.set_text(s, 0.0, flags=flags)\n",
      "/opt/anaconda3/lib/python3.8/site-packages/matplotlib/backends/backend_agg.py:238: RuntimeWarning: Glyph 128158 missing from current font.\n",
      "  font.set_text(s, 0.0, flags=flags)\n",
      "/opt/anaconda3/lib/python3.8/site-packages/matplotlib/backends/backend_agg.py:238: RuntimeWarning: Glyph 128149 missing from current font.\n",
      "  font.set_text(s, 0.0, flags=flags)\n",
      "/opt/anaconda3/lib/python3.8/site-packages/matplotlib/backends/backend_agg.py:238: RuntimeWarning: Glyph 127482 missing from current font.\n",
      "  font.set_text(s, 0.0, flags=flags)\n",
      "/opt/anaconda3/lib/python3.8/site-packages/matplotlib/backends/backend_agg.py:201: RuntimeWarning: Glyph 129315 missing from current font.\n",
      "  font.set_text(s, 0, flags=flags)\n",
      "/opt/anaconda3/lib/python3.8/site-packages/matplotlib/backends/backend_agg.py:201: RuntimeWarning: Glyph 128591 missing from current font.\n",
      "  font.set_text(s, 0, flags=flags)\n",
      "/opt/anaconda3/lib/python3.8/site-packages/matplotlib/backends/backend_agg.py:201: RuntimeWarning: Glyph 128077 missing from current font.\n",
      "  font.set_text(s, 0, flags=flags)\n",
      "/opt/anaconda3/lib/python3.8/site-packages/matplotlib/backends/backend_agg.py:201: RuntimeWarning: Glyph 128580 missing from current font.\n",
      "  font.set_text(s, 0, flags=flags)\n",
      "/opt/anaconda3/lib/python3.8/site-packages/matplotlib/backends/backend_agg.py:201: RuntimeWarning: Glyph 129300 missing from current font.\n",
      "  font.set_text(s, 0, flags=flags)\n",
      "/opt/anaconda3/lib/python3.8/site-packages/matplotlib/backends/backend_agg.py:201: RuntimeWarning: Glyph 128158 missing from current font.\n",
      "  font.set_text(s, 0, flags=flags)\n",
      "/opt/anaconda3/lib/python3.8/site-packages/matplotlib/backends/backend_agg.py:201: RuntimeWarning: Glyph 128149 missing from current font.\n",
      "  font.set_text(s, 0, flags=flags)\n",
      "/opt/anaconda3/lib/python3.8/site-packages/matplotlib/backends/backend_agg.py:201: RuntimeWarning: Glyph 127482 missing from current font.\n",
      "  font.set_text(s, 0, flags=flags)\n"
     ]
    },
    {
     "data": {
      "image/png": "[encoded data removed]",
      "text/plain": [
       "<Figure size 1440x720 with 1 Axes>"
      ]
     },
     "metadata": {
      "needs_background": "light"
     },
     "output_type": "display_data"
    }
   ],
   "source": [
    "plt.figure(figsize = (20,10))\n",
    "plt.bar(x = emoji_dataframe.sort_values(by = 'Emoji Count', ascending = False)[0:15].index, height = emoji_dataframe.sort_values(by = 'Emoji Count', ascending = False)[0:15]['Emoji Count'])"
   ]
  },
  {
   "cell_type": "code",
   "execution_count": 412,
   "metadata": {},
   "outputs": [
    {
     "data": {
      "image/png": "[encoded data removed]",
      "text/plain": [
       "<Figure size 864x576 with 1 Axes>"
      ]
     },
     "metadata": {
      "needs_background": "light"
     },
     "output_type": "display_data"
    }
   ],
   "source": [
    "#using the emoji_list to identify and count the emojis in each tweet\n",
    "def is_emoji(s):\n",
    "    emojis = emoji_set # add more emojis here\n",
    "    count = 0\n",
    "    for emoji in emojis:\n",
    "        count += s.count(emoji)\n",
    "    return count\n",
    "\n",
    "data['emojis_used'] = data['text_processed'].apply(is_emoji)\n",
    "plt.figure(figsize = (12,8))\n",
    "plt.hist(pd.DataFrame(data['emojis_used']), bins = range(0,6))\n",
    "plt.title(\"Number of Emojis Used in Each Tweet\");\n",
    "plt.savefig('../Images/Number_of_emojis_used_per_tweet.png')"
   ]
  },
  {
   "cell_type": "code",
   "execution_count": 413,
   "metadata": {},
   "outputs": [
    {
     "data": {
      "text/html": [
       "<div>\n",
       "<style scoped>\n",
       "    .dataframe tbody tr th:only-of-type {\n",
       "        vertical-align: middle;\n",
       "    }\n",
       "\n",
       "    .dataframe tbody tr th {\n",
       "        vertical-align: top;\n",
       "    }\n",
       "\n",
       "    .dataframe thead th {\n",
       "        text-align: right;\n",
       "    }\n",
       "</style>\n",
       "<table border=\"1\" class=\"dataframe\">\n",
       "  <thead>\n",
       "    <tr style=\"text-align: right;\">\n",
       "      <th></th>\n",
       "      <th></th>\n",
       "      <th>emojis_used</th>\n",
       "    </tr>\n",
       "    <tr>\n",
       "      <th>label</th>\n",
       "      <th>emojis_used</th>\n",
       "      <th></th>\n",
       "    </tr>\n",
       "  </thead>\n",
       "  <tbody>\n",
       "    <tr>\n",
       "      <th rowspan=\"6\" valign=\"top\">0</th>\n",
       "      <th>0</th>\n",
       "      <td>0.829117</td>\n",
       "    </tr>\n",
       "    <tr>\n",
       "      <th>1</th>\n",
       "      <td>0.067324</td>\n",
       "    </tr>\n",
       "    <tr>\n",
       "      <th>2</th>\n",
       "      <td>0.037307</td>\n",
       "    </tr>\n",
       "    <tr>\n",
       "      <th>5</th>\n",
       "      <td>0.030875</td>\n",
       "    </tr>\n",
       "    <tr>\n",
       "      <th>3</th>\n",
       "      <td>0.023799</td>\n",
       "    </tr>\n",
       "    <tr>\n",
       "      <th>4</th>\n",
       "      <td>0.011578</td>\n",
       "    </tr>\n",
       "    <tr>\n",
       "      <th rowspan=\"6\" valign=\"top\">1</th>\n",
       "      <th>0</th>\n",
       "      <td>0.916016</td>\n",
       "    </tr>\n",
       "    <tr>\n",
       "      <th>1</th>\n",
       "      <td>0.046299</td>\n",
       "    </tr>\n",
       "    <tr>\n",
       "      <th>2</th>\n",
       "      <td>0.014805</td>\n",
       "    </tr>\n",
       "    <tr>\n",
       "      <th>3</th>\n",
       "      <td>0.012113</td>\n",
       "    </tr>\n",
       "    <tr>\n",
       "      <th>4</th>\n",
       "      <td>0.005922</td>\n",
       "    </tr>\n",
       "    <tr>\n",
       "      <th>5</th>\n",
       "      <td>0.004845</td>\n",
       "    </tr>\n",
       "  </tbody>\n",
       "</table>\n",
       "</div>"
      ],
      "text/plain": [
       "                   emojis_used\n",
       "label emojis_used             \n",
       "0     0               0.829117\n",
       "      1               0.067324\n",
       "      2               0.037307\n",
       "      5               0.030875\n",
       "      3               0.023799\n",
       "      4               0.011578\n",
       "1     0               0.916016\n",
       "      1               0.046299\n",
       "      2               0.014805\n",
       "      3               0.012113\n",
       "      4               0.005922\n",
       "      5               0.004845"
      ]
     },
     "execution_count": 413,
     "metadata": {},
     "output_type": "execute_result"
    }
   ],
   "source": [
    "#How many tweets in each class use emojis?\n",
    "pd.DataFrame(data.groupby(data['label'])['emojis_used'].value_counts(normalize = True))"
   ]
  },
  {
   "cell_type": "code",
   "execution_count": 414,
   "metadata": {},
   "outputs": [
    {
     "data": {
      "image/png": "[encoded data removed]",
      "text/plain": [
       "<Figure size 864x576 with 1 Axes>"
      ]
     },
     "metadata": {
      "needs_background": "light"
     },
     "output_type": "display_data"
    }
   ],
   "source": [
    "# Let's see how emoji usage relates to the labeling of sarcastic or not\n",
    "plt.figure(figsize = (12,8))\n",
    "plt.hist([data.loc[data['label']==1]['emojis_used'], data.loc[data['label']==0]['emojis_used']], bins = [0,1,2,3,4,5], color = ['#f25764','#2a438c'])\n",
    "plt.legend(labels = ['Sarcastic','Not sarcastic'])\n",
    "plt.title('Histogram of Emoji Usage in Sarcastic and not Sarcastic Tweets', size = 16);\n",
    "plt.xlabel(\"Number of Emojis Used per Tweet\")\n",
    "plt.ylabel('Count of Tweets')\n",
    "plt.savefig(\"../Images/histogram_of_emoji_usage.png\")"
   ]
  },
  {
   "cell_type": "code",
   "execution_count": 415,
   "metadata": {},
   "outputs": [],
   "source": [
    "def pull_emojis(column):\n",
    "    emoji_list = [c for c in column if c in emoji.UNICODE_EMOJI]\n",
    "    \n",
    "    return emoji_list\n",
    "data['emojis_used_in_text'] = data['text_processed'].apply(pull_emojis)"
   ]
  },
  {
   "cell_type": "code",
   "execution_count": 416,
   "metadata": {},
   "outputs": [
    {
     "data": {
      "text/html": [
       "<div>\n",
       "<style scoped>\n",
       "    .dataframe tbody tr th:only-of-type {\n",
       "        vertical-align: middle;\n",
       "    }\n",
       "\n",
       "    .dataframe tbody tr th {\n",
       "        vertical-align: top;\n",
       "    }\n",
       "\n",
       "    .dataframe thead th {\n",
       "        text-align: right;\n",
       "    }\n",
       "</style>\n",
       "<table border=\"1\" class=\"dataframe\">\n",
       "  <thead>\n",
       "    <tr style=\"text-align: right;\">\n",
       "      <th></th>\n",
       "      <th>label</th>\n",
       "      <th>emojis_used</th>\n",
       "    </tr>\n",
       "  </thead>\n",
       "  <tbody>\n",
       "    <tr>\n",
       "      <th>label</th>\n",
       "      <td>1.000000</td>\n",
       "      <td>-0.135016</td>\n",
       "    </tr>\n",
       "    <tr>\n",
       "      <th>emojis_used</th>\n",
       "      <td>-0.135016</td>\n",
       "      <td>1.000000</td>\n",
       "    </tr>\n",
       "  </tbody>\n",
       "</table>\n",
       "</div>"
      ],
      "text/plain": [
       "                label  emojis_used\n",
       "label        1.000000    -0.135016\n",
       "emojis_used -0.135016     1.000000"
      ]
     },
     "execution_count": 416,
     "metadata": {},
     "output_type": "execute_result"
    }
   ],
   "source": [
    "#It doesn't look like there is much of a relationship between number of emojis and the positive class\n",
    "data[['label','emojis_used']].corr()"
   ]
  },
  {
   "cell_type": "markdown",
   "metadata": {},
   "source": [
    "## Sentiment Analysis exploration"
   ]
  },
  {
   "cell_type": "code",
   "execution_count": 417,
   "metadata": {},
   "outputs": [],
   "source": [
    "sentiment = SentimentIntensityAnalyzer()\n",
    "\n",
    "data['neg_sentiment'] = [sentiment.polarity_scores(row)['neg'] for row in data['text']]\n",
    "data['pos_sentiment'] = [sentiment.polarity_scores(row)['pos'] for row in data['text']]\n",
    "data['neu_sentiment'] = [sentiment.polarity_scores(row)['neu'] for row in data['text']]\n",
    "data['comp_sentiment'] = [sentiment.polarity_scores(row)['compound'] for row in data['text']]"
   ]
  },
  {
   "cell_type": "code",
   "execution_count": 418,
   "metadata": {},
   "outputs": [
    {
     "data": {
      "image/png": "[encoded data removed]",
      "text/plain": [
       "<Figure size 864x720 with 2 Axes>"
      ]
     },
     "metadata": {
      "needs_background": "light"
     },
     "output_type": "display_data"
    }
   ],
   "source": [
    "#heatmap of the correlation between features. \n",
    "plt.figure(figsize = (12,10))\n",
    "sns.heatmap(data.corr(), vmin = -1, vmax = 1, annot = True, cmap = \"Blues\", linewidths = 1)\n",
    "plt.title(\"Correlation Between Sentiment, Emoji Usage, and Sarcasm\")\n",
    "plt.yticks(rotation = 45)\n",
    "\n",
    "plt.savefig(\"../Images/sentiment_heatmap.png\")"
   ]
  },
  {
   "cell_type": "code",
   "execution_count": 419,
   "metadata": {},
   "outputs": [
    {
     "data": {
      "text/html": [
       "<div>\n",
       "<style scoped>\n",
       "    .dataframe tbody tr th:only-of-type {\n",
       "        vertical-align: middle;\n",
       "    }\n",
       "\n",
       "    .dataframe tbody tr th {\n",
       "        vertical-align: top;\n",
       "    }\n",
       "\n",
       "    .dataframe thead th {\n",
       "        text-align: right;\n",
       "    }\n",
       "</style>\n",
       "<table border=\"1\" class=\"dataframe\">\n",
       "  <thead>\n",
       "    <tr style=\"text-align: right;\">\n",
       "      <th></th>\n",
       "      <th>label</th>\n",
       "      <th>text_processed</th>\n",
       "      <th>emojis_used</th>\n",
       "      <th>emojis_used_in_text</th>\n",
       "      <th>neg_sentiment</th>\n",
       "      <th>pos_sentiment</th>\n",
       "      <th>neu_sentiment</th>\n",
       "      <th>comp_sentiment</th>\n",
       "    </tr>\n",
       "  </thead>\n",
       "  <tbody>\n",
       "    <tr>\n",
       "      <th>0</th>\n",
       "      <td>1</td>\n",
       "      <td>plz excuse me while I cry . I DONT even know w...</td>\n",
       "      <td>0</td>\n",
       "      <td>[]</td>\n",
       "      <td>0.110</td>\n",
       "      <td>0.248</td>\n",
       "      <td>0.641</td>\n",
       "      <td>0.4336</td>\n",
       "    </tr>\n",
       "    <tr>\n",
       "      <th>1</th>\n",
       "      <td>1</td>\n",
       "      <td>you had me til the goat cheese ... What's next...</td>\n",
       "      <td>3</td>\n",
       "      <td>[🐐, 🐐, 🐐]</td>\n",
       "      <td>0.000</td>\n",
       "      <td>0.000</td>\n",
       "      <td>1.000</td>\n",
       "      <td>0.0000</td>\n",
       "    </tr>\n",
       "    <tr>\n",
       "      <th>2</th>\n",
       "      <td>1</td>\n",
       "      <td>Either way , I should go get a flu shot . And ...</td>\n",
       "      <td>0</td>\n",
       "      <td>[]</td>\n",
       "      <td>0.157</td>\n",
       "      <td>0.000</td>\n",
       "      <td>0.843</td>\n",
       "      <td>-0.3818</td>\n",
       "    </tr>\n",
       "    <tr>\n",
       "      <th>3</th>\n",
       "      <td>1</td>\n",
       "      <td>and form them into something we like yep make ...</td>\n",
       "      <td>0</td>\n",
       "      <td>[]</td>\n",
       "      <td>0.135</td>\n",
       "      <td>0.276</td>\n",
       "      <td>0.588</td>\n",
       "      <td>0.3400</td>\n",
       "    </tr>\n",
       "    <tr>\n",
       "      <th>4</th>\n",
       "      <td>1</td>\n",
       "      <td>thanks mate ...</td>\n",
       "      <td>0</td>\n",
       "      <td>[]</td>\n",
       "      <td>0.000</td>\n",
       "      <td>0.592</td>\n",
       "      <td>0.408</td>\n",
       "      <td>0.4404</td>\n",
       "    </tr>\n",
       "  </tbody>\n",
       "</table>\n",
       "</div>"
      ],
      "text/plain": [
       "   label                                     text_processed  emojis_used  \\\n",
       "0      1  plz excuse me while I cry . I DONT even know w...            0   \n",
       "1      1  you had me til the goat cheese ... What's next...            3   \n",
       "2      1  Either way , I should go get a flu shot . And ...            0   \n",
       "3      1  and form them into something we like yep make ...            0   \n",
       "4      1                                    thanks mate ...            0   \n",
       "\n",
       "  emojis_used_in_text  neg_sentiment  pos_sentiment  neu_sentiment  \\\n",
       "0                  []          0.110          0.248          0.641   \n",
       "1           [🐐, 🐐, 🐐]          0.000          0.000          1.000   \n",
       "2                  []          0.157          0.000          0.843   \n",
       "3                  []          0.135          0.276          0.588   \n",
       "4                  []          0.000          0.592          0.408   \n",
       "\n",
       "   comp_sentiment  \n",
       "0          0.4336  \n",
       "1          0.0000  \n",
       "2         -0.3818  \n",
       "3          0.3400  \n",
       "4          0.4404  "
      ]
     },
     "execution_count": 419,
     "metadata": {},
     "output_type": "execute_result"
    }
   ],
   "source": [
    "data.drop(columns = ['text']).head()"
   ]
  },
  {
   "cell_type": "code",
   "execution_count": 420,
   "metadata": {},
   "outputs": [
    {
     "data": {
      "image/png": "[encoded data removed]",
      "text/plain": [
       "<Figure size 864x576 with 1 Axes>"
      ]
     },
     "metadata": {
      "needs_background": "light"
     },
     "output_type": "display_data"
    }
   ],
   "source": [
    "# Let's see how sentiment  relates to the labeling of sarcastic or not\n",
    "plt.figure(figsize = (12,8))\n",
    "plt.hist([data.loc[data['label']==1]['comp_sentiment'],data.loc[data['label']==0]['comp_sentiment']], color = ['#f25764','#2a438c'], bins = 5)\n",
    "plt.legend(labels = ['Sarcastic','Not sarcastic'])\n",
    "plt.xlabel('Compounded Sentiment Scores')\n",
    "plt.ylabel('Count of Tweets')\n",
    "plt.title('Histogram of Compounded Sentiment Scores in Sarcastic Tweets');\n",
    "plt.savefig('../Images/sentiment_histogram.png')"
   ]
  },
  {
   "cell_type": "code",
   "execution_count": 421,
   "metadata": {},
   "outputs": [
    {
     "data": {
      "text/plain": [
       "Ttest_indResult(statistic=-17.573456779344856, pvalue=7.192538195933798e-68)"
      ]
     },
     "execution_count": 421,
     "metadata": {},
     "output_type": "execute_result"
    }
   ],
   "source": [
    "#are the positive and negative tweets actually different sentimentally? \n",
    "tt = stats.ttest_ind(data['comp_sentiment'].loc[data['label'] == 1], data['comp_sentiment'].loc[data['label'] == 0], equal_var=False)\n",
    "tt\n",
    "#p value indicates that we can reject the null hypothesis that the two groups have the same mean"
   ]
  },
  {
   "cell_type": "code",
   "execution_count": 422,
   "metadata": {},
   "outputs": [
    {
     "data": {
      "text/plain": [
       "comp_sentiment\n",
       "False    2399\n",
       "True     5980\n",
       "Name: label, dtype: int64"
      ]
     },
     "execution_count": 422,
     "metadata": {},
     "output_type": "execute_result"
    }
   ],
   "source": [
    "data.groupby(by = data['comp_sentiment'] >= 0)['label'].agg(\"count\")"
   ]
  },
  {
   "cell_type": "code",
   "execution_count": 423,
   "metadata": {},
   "outputs": [],
   "source": [
    "data.to_csv('../Protected/Data/corpus_processed.csv', index = False)"
   ]
  },
  {
   "cell_type": "code",
   "execution_count": 424,
   "metadata": {},
   "outputs": [],
   "source": [
    "#Functions can be used to take an input string and predict the presence of sarcasm\n",
    "def tok_and_lem_input(handles = True, tok = True, lem = True, predict = True):\n",
    "    tweet = input(\"What is the tweet you'd like to post?\")\n",
    "    input_dict = {0:tweet}\n",
    "    dataframe = pd.DataFrame(input_dict, index = input_dict.keys())\n",
    "    tokenizer = TweetTokenizer(strip_handles = handles)\n",
    "    lemmatizer = WordNetLemmatizer()\n",
    "    #tokenizing\n",
    "    dataframe['text_processed'] = [tokenizer.tokenize(row) for row in dataframe[0]]\n",
    "    #lemmatizing and joining the text back together \n",
    "    for row in dataframe.index:\n",
    "        dataframe['text_processed'].iloc[row] = ' '.join([lemmatizer.lemmatize(word) for word in dataframe['text_processed'][row]])\n",
    "    #example of what the data looks like\n",
    "    if predict == False:\n",
    "        return dataframe['text_processed']\n",
    "    if predict == True:\n",
    "        return predict_sarcasm(dataframe['text_processed'])\n",
    "\n",
    "def predict_sarcasm(values):\n",
    "    model = pickle.load(open('./../Models/n_bayes_2','rb'))\n",
    "    preds = model.predict(values)\n",
    "    if preds == 1:\n",
    "        return \"That sounds Sarcastic\"\n",
    "    if preds == 0:\n",
    "        return \"That doesn't sound Sarcastic\"\n",
    "    else:\n",
    "        return \"oops something went wrong\"\n"
   ]
  },
  {
   "cell_type": "markdown",
   "metadata": {},
   "source": [
    "## Additional word vector investigation"
   ]
  },
  {
   "cell_type": "code",
   "execution_count": 425,
   "metadata": {},
   "outputs": [
    {
     "data": {
      "text/plain": [
       "<8379x13529 sparse matrix of type '<class 'numpy.int64'>'\n",
       "\twith 85725 stored elements in Compressed Sparse Row format>"
      ]
     },
     "execution_count": 425,
     "metadata": {},
     "output_type": "execute_result"
    }
   ],
   "source": [
    "#using the \n",
    "cv = CountVectorizer(max_df = .85,min_df = 2, ngram_range = (1,2), stop_words = 'english')\n",
    "cv.fit_transform(data['text_processed'])"
   ]
  },
  {
   "cell_type": "code",
   "execution_count": 426,
   "metadata": {},
   "outputs": [],
   "source": [
    "tf_df_sarcasm = pd.DataFrame(cv.transform(data['text_processed'].loc[data['label']==1]).todense(), columns = cv.get_feature_names())\n",
    "tf_df_no_sarcasm = pd.DataFrame(cv.transform(data['text_processed'].loc[data['label']==0]).todense(), columns = cv.get_feature_names())"
   ]
  },
  {
   "cell_type": "code",
   "execution_count": 427,
   "metadata": {},
   "outputs": [
    {
     "data": {
      "text/plain": [
       "<AxesSubplot:>"
      ]
     },
     "execution_count": 427,
     "metadata": {},
     "output_type": "execute_result"
    },
    {
     "data": {
      "image/png": "[encoded data removed]",
      "text/plain": [
       "<Figure size 432x288 with 1 Axes>"
      ]
     },
     "metadata": {
      "needs_background": "light"
     },
     "output_type": "display_data"
    }
   ],
   "source": [
    "tf_df_sarcasm.sum().sort_values(ascending = False).head(20).plot(kind = 'barh')\n"
   ]
  },
  {
   "cell_type": "code",
   "execution_count": 428,
   "metadata": {},
   "outputs": [
    {
     "data": {
      "text/plain": [
       "<AxesSubplot:>"
      ]
     },
     "execution_count": 428,
     "metadata": {},
     "output_type": "execute_result"
    },
    {
     "data": {
      "image/png": "[encoded data removed]",
      "text/plain": [
       "<Figure size 432x288 with 1 Axes>"
      ]
     },
     "metadata": {
      "needs_background": "light"
     },
     "output_type": "display_data"
    }
   ],
   "source": [
    "tf_df_no_sarcasm.sum().sort_values(ascending = False).head(20).plot(kind = 'barh')\n"
   ]
  },
  {
   "cell_type": "code",
   "execution_count": 429,
   "metadata": {},
   "outputs": [],
   "source": [
    "col_list = [col for col in list(tf_df_sarcasm.columns) if tf_df_no_sarcasm[col].sum() < 1]"
   ]
  },
  {
   "cell_type": "code",
   "execution_count": 430,
   "metadata": {},
   "outputs": [
    {
     "data": {
      "text/plain": [
       "00                0\n",
       "loaded thank      0\n",
       "loaded            0\n",
       "lmao banking      0\n",
       "ll try            0\n",
       "               ... \n",
       "don             248\n",
       "people          274\n",
       "just            291\n",
       "like            300\n",
       "wa              377\n",
       "Length: 13529, dtype: int64"
      ]
     },
     "execution_count": 430,
     "metadata": {},
     "output_type": "execute_result"
    }
   ],
   "source": [
    "tf_df_sarcasm.sum().sort_values()"
   ]
  }
 ],
 "metadata": {
  "kernelspec": {
   "display_name": "Python 3",
   "language": "python",
   "name": "python3"
  },
  "language_info": {
   "codemirror_mode": {
    "name": "ipython",
    "version": 3
   },
   "file_extension": ".py",
   "mimetype": "text/x-python",
   "name": "python",
   "nbconvert_exporter": "python",
   "pygments_lexer": "ipython3",
   "version": "3.8.3"
  }
 },
 "nbformat": 4,
 "nbformat_minor": 4
}
