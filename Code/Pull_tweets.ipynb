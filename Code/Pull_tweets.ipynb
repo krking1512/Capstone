{
 "cells": [
  {
   "cell_type": "markdown",
   "metadata": {},
   "source": [
    "Notebook to use Twitter API and pull text data from tweets\n"
   ]
  },
  {
   "cell_type": "code",
   "execution_count": 1,
   "metadata": {},
   "outputs": [],
   "source": [
    "#imports\n",
    "import numpy as np\n",
    "import pandas as pd\n",
    "import matplotlib.pyplot as plt\n",
    "import tweepy\n",
    "import os\n",
    "from decouple import config"
   ]
  },
  {
   "cell_type": "markdown",
   "metadata": {},
   "source": [
    "## Dataset 1\n",
    "This dataset has a list of tweet ids that have been scored, so I'll need to use Tweepy to pull the tweets from the API"
   ]
  },
  {
   "cell_type": "code",
   "execution_count": 2,
   "metadata": {},
   "outputs": [],
   "source": [
    "consumer_key = config(\"TWITTER_KEY\")\n",
    "consumer_secret = config(\"TWITTER_SECRET\")\n",
    "token = config(\"TWITTER_TOKEN\")\n",
    "secret = config(\"TOKEN_SECRET\")"
   ]
  },
  {
   "cell_type": "code",
   "execution_count": 3,
   "metadata": {},
   "outputs": [],
   "source": [
    "#pulling list of tweets from first dataset. \n",
    "#I'll use this list to pull back the tweet data using the api as they've provided only the tweet ids\n",
    "corpus = pd.read_csv('./../Data/sarcasm_corpus.csv')\n",
    "id_list = corpus['author'].to_list()"
   ]
  },
  {
   "cell_type": "code",
   "execution_count": 4,
   "metadata": {},
   "outputs": [],
   "source": [
    "#https://medium.com/analytics-vidhya/fetch-tweets-using-their-ids-with-tweepy-twitter-api-and-python-ee7a22dcb845\n",
    "#this function will take in a list of IDs, and my tokens to use tweepy to get everything from the tweet id. It returns\n",
    "#an array with the json of the tweets from the tweepy status object, and a list of tweet IDs that couldn't be found\n",
    "\n",
    "def get_tweets(id_list):\n",
    "    auth = tweepy.OAuthHandler(consumer_key, consumer_secret)\n",
    "\n",
    "    auth.set_access_token(token, secret)\n",
    "    api = tweepy.API(auth, wait_on_rate_limit_notify = True,wait_on_rate_limit = True)\n",
    "    tweets=[]\n",
    "    unavailable = []\n",
    "    count = 0\n",
    " \n",
    "    for i in id_list:\n",
    "        if count % 100 == 0:\n",
    "            print(count)\n",
    "        count+=1\n",
    "        data = {}\n",
    "\n",
    "        try: \n",
    "            tweet = api.get_status(i)\n",
    "            data = tweet._json\n",
    "            tweets.append(data)\n",
    "        except:\n",
    "            unavailable.append(i)\n",
    "    return tweets, unavailable"
   ]
  },
  {
   "cell_type": "code",
   "execution_count": 5,
   "metadata": {},
   "outputs": [
    {
     "name": "stdout",
     "output_type": "stream",
     "text": [
      "0\n",
      "100\n",
      "200\n",
      "300\n",
      "400\n",
      "500\n",
      "600\n",
      "700\n",
      "800\n"
     ]
    },
    {
     "name": "stderr",
     "output_type": "stream",
     "text": [
      "Rate limit reached. Sleeping for: 712\n"
     ]
    },
    {
     "name": "stdout",
     "output_type": "stream",
     "text": [
      "900\n",
      "1000\n",
      "1100\n",
      "1200\n",
      "1300\n",
      "1400\n",
      "1500\n",
      "1600\n",
      "1700\n"
     ]
    },
    {
     "name": "stderr",
     "output_type": "stream",
     "text": [
      "Rate limit reached. Sleeping for: 707\n"
     ]
    },
    {
     "name": "stdout",
     "output_type": "stream",
     "text": [
      "1800\n",
      "1900\n",
      "2000\n",
      "2100\n",
      "2200\n"
     ]
    }
   ],
   "source": [
    "tweet_data, none_list = get_tweets(id_list)"
   ]
  },
  {
   "cell_type": "code",
   "execution_count": 6,
   "metadata": {},
   "outputs": [
    {
     "name": "stdout",
     "output_type": "stream",
     "text": [
      "<class 'pandas.core.frame.DataFrame'>\n",
      "RangeIndex: 1580 entries, 0 to 1579\n",
      "Data columns (total 26 columns):\n",
      " #   Column                         Non-Null Count  Dtype  \n",
      "---  ------                         --------------  -----  \n",
      " 0   created_at                     1580 non-null   object \n",
      " 1   id                             1580 non-null   int64  \n",
      " 2   id_str                         1580 non-null   object \n",
      " 3   text                           1580 non-null   object \n",
      " 4   truncated                      1580 non-null   bool   \n",
      " 5   entities                       1580 non-null   object \n",
      " 6   source                         1580 non-null   object \n",
      " 7   in_reply_to_status_id          1294 non-null   float64\n",
      " 8   in_reply_to_status_id_str      1294 non-null   object \n",
      " 9   in_reply_to_user_id            1294 non-null   float64\n",
      " 10  in_reply_to_user_id_str        1294 non-null   object \n",
      " 11  in_reply_to_screen_name        1294 non-null   object \n",
      " 12  user                           1580 non-null   object \n",
      " 13  geo                            42 non-null     object \n",
      " 14  coordinates                    42 non-null     object \n",
      " 15  place                          50 non-null     object \n",
      " 16  contributors                   0 non-null      object \n",
      " 17  is_quote_status                1580 non-null   bool   \n",
      " 18  retweet_count                  1580 non-null   int64  \n",
      " 19  favorite_count                 1580 non-null   int64  \n",
      " 20  favorited                      1580 non-null   bool   \n",
      " 21  retweeted                      1580 non-null   bool   \n",
      " 22  lang                           1580 non-null   object \n",
      " 23  extended_entities              4 non-null      object \n",
      " 24  possibly_sensitive             16 non-null     object \n",
      " 25  possibly_sensitive_appealable  16 non-null     object \n",
      "dtypes: bool(4), float64(2), int64(3), object(17)\n",
      "memory usage: 277.9+ KB\n"
     ]
    }
   ],
   "source": [
    "#After running the function to get the tweet data, let's turn it into a dataframe and take a look\n",
    "tweet_data = pd.DataFrame(tweet_data)\n",
    "\n",
    "tweet_data.info()"
   ]
  },
  {
   "cell_type": "code",
   "execution_count": 7,
   "metadata": {},
   "outputs": [
    {
     "name": "stdout",
     "output_type": "stream",
     "text": [
      "660\n"
     ]
    }
   ],
   "source": [
    "#I'll merge corpus(the original labeled dataframe), and the tweet_data from the function on the tweet ID to create corpus_df\n",
    "corpus_df = corpus.merge(tweet_data,how = 'outer',left_on = ['author'], right_on= ['id'])\n",
    "#I know that there were unavailable tweets that the function added to none_list. \n",
    "#I want to ensure that the null values left over from my outer join, match the none_list\n",
    "print(len(none_list))"
   ]
  },
  {
   "cell_type": "code",
   "execution_count": 8,
   "metadata": {},
   "outputs": [
    {
     "data": {
      "text/plain": [
       "author                              0\n",
       " audience                           0\n",
       " label                              0\n",
       "created_at                        660\n",
       "id                                660\n",
       "id_str                            660\n",
       "text                              660\n",
       "truncated                         660\n",
       "entities                          660\n",
       "source                            660\n",
       "in_reply_to_status_id             946\n",
       "in_reply_to_status_id_str         946\n",
       "in_reply_to_user_id               946\n",
       "in_reply_to_user_id_str           946\n",
       "in_reply_to_screen_name           946\n",
       "user                              660\n",
       "geo                              2198\n",
       "coordinates                      2198\n",
       "place                            2190\n",
       "contributors                     2240\n",
       "is_quote_status                   660\n",
       "retweet_count                     660\n",
       "favorite_count                    660\n",
       "favorited                         660\n",
       "retweeted                         660\n",
       "lang                              660\n",
       "extended_entities                2236\n",
       "possibly_sensitive               2224\n",
       "possibly_sensitive_appealable    2224\n",
       "dtype: int64"
      ]
     },
     "execution_count": 8,
     "metadata": {},
     "output_type": "execute_result"
    }
   ],
   "source": [
    "#both the none_list and the null values in the dataframe indicate that there are 660 tweets that no longer exist\n",
    "corpus_df.isnull().sum()"
   ]
  },
  {
   "cell_type": "code",
   "execution_count": 9,
   "metadata": {},
   "outputs": [
    {
     "data": {
      "text/plain": [
       "author                             int64\n",
       " audience                          int64\n",
       " label                             int64\n",
       "created_at                        object\n",
       "id                               float64\n",
       "id_str                            object\n",
       "text                              object\n",
       "truncated                         object\n",
       "entities                          object\n",
       "source                            object\n",
       "in_reply_to_status_id            float64\n",
       "in_reply_to_status_id_str         object\n",
       "in_reply_to_user_id              float64\n",
       "in_reply_to_user_id_str           object\n",
       "in_reply_to_screen_name           object\n",
       "user                              object\n",
       "geo                               object\n",
       "coordinates                       object\n",
       "place                             object\n",
       "contributors                      object\n",
       "is_quote_status                   object\n",
       "retweet_count                    float64\n",
       "favorite_count                   float64\n",
       "favorited                         object\n",
       "retweeted                         object\n",
       "lang                              object\n",
       "extended_entities                 object\n",
       "possibly_sensitive                object\n",
       "possibly_sensitive_appealable     object\n",
       "dtype: object"
      ]
     },
     "execution_count": 9,
     "metadata": {},
     "output_type": "execute_result"
    }
   ],
   "source": [
    "corpus_df.dtypes"
   ]
  },
  {
   "cell_type": "markdown",
   "metadata": {},
   "source": [
    "Examination of Null Values"
   ]
  },
  {
   "cell_type": "code",
   "execution_count": 10,
   "metadata": {},
   "outputs": [
    {
     "data": {
      "image/png": "[encoded data removed]",
      "text/plain": [
       "<Figure size 864x576 with 1 Axes>"
      ]
     },
     "metadata": {
      "needs_background": "light"
     },
     "output_type": "display_data"
    }
   ],
   "source": [
    "# to make sure the missing values are random, I created a histogram to show where the null values were in relation to the index\n",
    "plt.figure(figsize = (12,8))\n",
    "plt.title('Frequency of Null Values')\n",
    "plt.xlabel('Dataframe\"s Index')\n",
    "plt.ylabel('Count of missing values')\n",
    "plt.hist(corpus_df[corpus_df['created_at'].isnull()==True].index, bins = 20);\n",
    "#This looks pretty even across the list"
   ]
  },
  {
   "cell_type": "code",
   "execution_count": 11,
   "metadata": {},
   "outputs": [
    {
     "data": {
      "text/plain": [
       "author                             0\n",
       " audience                          0\n",
       " label                             0\n",
       "created_at                       660\n",
       "id                               660\n",
       "id_str                           660\n",
       "text                             660\n",
       "truncated                        660\n",
       "entities                         660\n",
       "source                           660\n",
       "in_reply_to_status_id            660\n",
       "in_reply_to_status_id_str        660\n",
       "in_reply_to_user_id              660\n",
       "in_reply_to_user_id_str          660\n",
       "in_reply_to_screen_name          660\n",
       "user                             660\n",
       "geo                              660\n",
       "coordinates                      660\n",
       "place                            660\n",
       "contributors                     660\n",
       "is_quote_status                  660\n",
       "retweet_count                    660\n",
       "favorite_count                   660\n",
       "favorited                        660\n",
       "retweeted                        660\n",
       "lang                             660\n",
       "extended_entities                660\n",
       "possibly_sensitive               660\n",
       "possibly_sensitive_appealable    660\n",
       "dtype: int64"
      ]
     },
     "execution_count": 11,
     "metadata": {},
     "output_type": "execute_result"
    }
   ],
   "source": [
    "#Now that it looks like the values are missing at random, one last check to see if I can use \"created_at\" to drop all of the rows\n",
    "corpus_df[corpus_df['created_at'].isnull()==True].isnull().sum()"
   ]
  },
  {
   "cell_type": "code",
   "execution_count": 12,
   "metadata": {},
   "outputs": [
    {
     "data": {
      "text/plain": [
       "0    0.8\n",
       "1    0.2\n",
       "Name:  label, dtype: float64"
      ]
     },
     "execution_count": 12,
     "metadata": {},
     "output_type": "execute_result"
    }
   ],
   "source": [
    "#I've tried pulling the missing tweets directly from the twitter api and they don't exist, and I've shows that they're randomly missing throughout the dataframe, so I can drop them from the analysis\n",
    "corpus_df.dropna(subset=['created_at'], inplace = True)\n",
    "corpus_df.reset_index(drop= True, inplace = True)\n",
    "\n",
    "#I want to know how dropping these rows affects the target variable, the original split is .8/.2, which is maintatined \n",
    "corpus_df[corpus_df['created_at'].isnull()==False][' label'].value_counts(normalize=True)"
   ]
  },
  {
   "cell_type": "code",
   "execution_count": 13,
   "metadata": {},
   "outputs": [
    {
     "data": {
      "text/plain": [
       "Index(['author', 'audience', 'label', 'created_at', 'id', 'id_str', 'text',\n",
       "       'truncated', 'entities', 'source', 'in_reply_to_status_id',\n",
       "       'in_reply_to_status_id_str', 'in_reply_to_user_id',\n",
       "       'in_reply_to_user_id_str', 'in_reply_to_screen_name', 'user', 'geo',\n",
       "       'coordinates', 'place', 'contributors', 'is_quote_status',\n",
       "       'retweet_count', 'favorite_count', 'favorited', 'retweeted', 'lang',\n",
       "       'extended_entities', 'possibly_sensitive',\n",
       "       'possibly_sensitive_appealable'],\n",
       "      dtype='object')"
      ]
     },
     "execution_count": 13,
     "metadata": {},
     "output_type": "execute_result"
    }
   ],
   "source": [
    "#the columns names from the original dataset have extra spaces \n",
    "corpus_df.rename({' audience':'audience',' label':'label'},axis = 1, inplace = True)\n",
    "\n",
    "corpus_df.columns"
   ]
  },
  {
   "cell_type": "code",
   "execution_count": 14,
   "metadata": {},
   "outputs": [
    {
     "data": {
      "text/plain": [
       "'@Karin1Martinez i think its funny that you think i care :p \\n#JealousTweet'"
      ]
     },
     "execution_count": 14,
     "metadata": {},
     "output_type": "execute_result"
    }
   ],
   "source": [
    "#I found this row in the next notebook when trying to understand why the data looked corupted, then I found these return characters that make it hard to open a csv file\n",
    "corpus_df['text'].loc[77]"
   ]
  },
  {
   "cell_type": "code",
   "execution_count": 15,
   "metadata": {},
   "outputs": [],
   "source": [
    "#I need to replace the return characters or the csv will save incorrectly\n",
    "corpus_df['text'] = corpus_df['text'].str.replace(\"\\n\",\"þ\")\n",
    "corpus_df['text'] = corpus_df['text'].str.replace(\"\\r\", \"|\")"
   ]
  },
  {
   "cell_type": "code",
   "execution_count": 16,
   "metadata": {},
   "outputs": [
    {
     "data": {
      "text/plain": [
       "'@Karin1Martinez i think its funny that you think i care :p þ#JealousTweet'"
      ]
     },
     "execution_count": 16,
     "metadata": {},
     "output_type": "execute_result"
    }
   ],
   "source": [
    "#i'm choosing to replace them with other unusual characters\n",
    "corpus_df['text'].loc[77]"
   ]
  },
  {
   "cell_type": "markdown",
   "metadata": {},
   "source": [
    "## Dataset 2 \n",
    "This dataset has just tweets stripped of user handles, wihtout the UserID, so ther rest of the fields I pulled with the first datsaet won't be relevant "
   ]
  },
  {
   "cell_type": "code",
   "execution_count": 17,
   "metadata": {},
   "outputs": [],
   "source": [
    "# I'm also using another dataset that has scored sarcasm tweets. I'll add it to corpus_df to enlarge my dataset\n",
    "#dataset available at https://github.com/EducationalTestingService/sarcasm\n",
    "test = pd.read_json('../../Capstone/Protected/Data/sarcasm-master/twitter/sarcasm_detection_shared_task_twitter_testing.jsonl', lines = True)\n",
    "train = pd.read_json('../../Capstone/Protected/Data/sarcasm-master/twitter/sarcasm_detection_shared_task_twitter_training.jsonl', lines = True)"
   ]
  },
  {
   "cell_type": "code",
   "execution_count": 18,
   "metadata": {},
   "outputs": [],
   "source": [
    "test = test.rename({'response':'text'}, axis = 1).drop(columns = ['context','id'], errors = 'ignore')\n",
    "train = train.rename({'response':'text'}, axis = 1).drop(columns = ['context','id'], errors = 'ignore')"
   ]
  },
  {
   "cell_type": "code",
   "execution_count": 19,
   "metadata": {},
   "outputs": [
    {
     "data": {
      "text/plain": [
       "(5000, 2)"
      ]
     },
     "execution_count": 19,
     "metadata": {},
     "output_type": "execute_result"
    }
   ],
   "source": [
    "train.shape"
   ]
  },
  {
   "cell_type": "code",
   "execution_count": 20,
   "metadata": {},
   "outputs": [
    {
     "data": {
      "text/plain": [
       "(1800, 2)"
      ]
     },
     "execution_count": 20,
     "metadata": {},
     "output_type": "execute_result"
    }
   ],
   "source": [
    "test.shape"
   ]
  },
  {
   "cell_type": "code",
   "execution_count": 21,
   "metadata": {},
   "outputs": [],
   "source": [
    "#I don't want to use their same train/test split becasue I have additional data I want to incorporate. Merging everything back together will allow me to make my own splits\n",
    "corpus_df = pd.concat([corpus_df[['label','text']],test], ignore_index = True)\n",
    "corpus_df = pd.concat([corpus_df,train], ignore_index = True)"
   ]
  },
  {
   "cell_type": "code",
   "execution_count": 22,
   "metadata": {},
   "outputs": [
    {
     "data": {
      "text/plain": [
       "NOT_SARCASM    3400\n",
       "SARCASM        3400\n",
       "0              1264\n",
       "1               316\n",
       "Name: label, dtype: int64"
      ]
     },
     "execution_count": 22,
     "metadata": {},
     "output_type": "execute_result"
    }
   ],
   "source": [
    "#Now that both datasets are merged, I'll need to adjust the labels column to match \n",
    "corpus_df['label'].value_counts()"
   ]
  },
  {
   "cell_type": "code",
   "execution_count": 23,
   "metadata": {},
   "outputs": [],
   "source": [
    "corpus_df['label'].replace({\"NOT_SARCASM\": 0 , \"SARCASM\" :1}, inplace = True)"
   ]
  },
  {
   "cell_type": "code",
   "execution_count": 24,
   "metadata": {},
   "outputs": [
    {
     "data": {
      "text/plain": [
       "0    0.556563\n",
       "1    0.443437\n",
       "Name: label, dtype: float64"
      ]
     },
     "execution_count": 24,
     "metadata": {},
     "output_type": "execute_result"
    }
   ],
   "source": [
    "#initally the split was .8/.2, the addition of the second dataframe helps balance the two classes\n",
    "corpus_df['label'].value_counts(normalize = True)"
   ]
  },
  {
   "cell_type": "code",
   "execution_count": 31,
   "metadata": {},
   "outputs": [],
   "source": [
    "#Because this dataset now has all of the tweet data, I'm going to store it in a folder that will not be uploaded to github\n",
    "corpus_df.to_csv('./../Protected/Data/corpus_with_text.csv', index = False,)"
   ]
  },
  {
   "cell_type": "code",
   "execution_count": 32,
   "metadata": {},
   "outputs": [],
   "source": [
    "#I also explored pulling tweets with the label sarcasm, and used this function to do so\n",
    "def get_sarcasm_tweets(hashtag):\n",
    "    auth = tweepy.OAuthHandler(consumer_key, consumer_secret)\n",
    "    auth.set_access_token(token, secret)\n",
    "    api = tweepy.API(auth, wait_on_rate_limit_notify = True,wait_on_rate_limit = True)\n",
    "    tweets=[]\n",
    "    for tw in tweepy.Cursor(api.search, q = hashtag,count = 100, lang = 'en',since = \"2020-12-20\").items():\n",
    "        \n",
    "        data = tw._json\n",
    "        tweets.append(data)\n",
    "        \n",
    "    return tweets"
   ]
  }
 ],
 "metadata": {
  "kernelspec": {
   "display_name": "Python 3",
   "language": "python",
   "name": "python3"
  },
  "language_info": {
   "codemirror_mode": {
    "name": "ipython",
    "version": 3
   },
   "file_extension": ".py",
   "mimetype": "text/x-python",
   "name": "python",
   "nbconvert_exporter": "python",
   "pygments_lexer": "ipython3",
   "version": "3.8.3"
  }
 },
 "nbformat": 4,
 "nbformat_minor": 4
}
